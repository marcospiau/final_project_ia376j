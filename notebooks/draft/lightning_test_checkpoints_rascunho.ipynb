{
 "cells": [
  {
   "cell_type": "markdown",
   "metadata": {},
   "source": [
    "# Introdução"
   ]
  },
  {
   "cell_type": "markdown",
   "metadata": {},
   "source": [
    "Na primeira etapa dos experimentos de finetuning, nós fizemos um total de 20 experimentos, variando:\n",
    " - tamanho do modelo (`t5-base` e `t5-small`)\n",
    " - como tratar caracteres `\\n`: substituindo por espaço (` `) ou pipes (`|`)\n",
    " - modelo treinado sobre dataset com apenas uma tarefa ou todas (concatenação de datasets de todas tarefas)\n"
   ]
  },
  {
   "cell_type": "markdown",
   "metadata": {},
   "source": [
    "# Initial setup"
   ]
  },
  {
   "cell_type": "code",
   "execution_count": 1,
   "metadata": {},
   "outputs": [],
   "source": [
    "%load_ext autoreload\n",
    "%autoreload 2"
   ]
  },
  {
   "cell_type": "markdown",
   "metadata": {},
   "source": [
    "# Loading expriment data from Neptune"
   ]
  },
  {
   "cell_type": "code",
   "execution_count": 2,
   "metadata": {},
   "outputs": [
    {
     "data": {
      "text/plain": [
       "[Experiment(FIN-27),\n",
       " Experiment(FIN-28),\n",
       " Experiment(FIN-29),\n",
       " Experiment(FIN-30),\n",
       " Experiment(FIN-33),\n",
       " Experiment(FIN-34),\n",
       " Experiment(FIN-35),\n",
       " Experiment(FIN-36),\n",
       " Experiment(FIN-37),\n",
       " Experiment(FIN-38),\n",
       " Experiment(FIN-39),\n",
       " Experiment(FIN-40),\n",
       " Experiment(FIN-41),\n",
       " Experiment(FIN-42),\n",
       " Experiment(FIN-43),\n",
       " Experiment(FIN-44),\n",
       " Experiment(FIN-45),\n",
       " Experiment(FIN-46),\n",
       " Experiment(FIN-47),\n",
       " Experiment(FIN-48)]"
      ]
     },
     "metadata": {},
     "output_type": "display_data"
    }
   ],
   "source": [
    "# Loading project data\n",
    "import neptune\n",
    "project = neptune.init('marcospiau/final-project-ia376j-1')\n",
    "experiments = project.get_experiments()\n",
    "display(experiments)"
   ]
  },
  {
   "cell_type": "code",
   "execution_count": 4,
   "metadata": {},
   "outputs": [
    {
     "data": {
      "text/html": [
       "<div>\n",
       "<style scoped>\n",
       "    .dataframe tbody tr th:only-of-type {\n",
       "        vertical-align: middle;\n",
       "    }\n",
       "\n",
       "    .dataframe tbody tr th {\n",
       "        vertical-align: top;\n",
       "    }\n",
       "\n",
       "    .dataframe thead th {\n",
       "        text-align: right;\n",
       "    }\n",
       "</style>\n",
       "<table border=\"1\" class=\"dataframe\">\n",
       "  <thead>\n",
       "    <tr style=\"text-align: right;\">\n",
       "      <th></th>\n",
       "      <th>id</th>\n",
       "      <th>name</th>\n",
       "      <th>created</th>\n",
       "      <th>finished</th>\n",
       "      <th>owner</th>\n",
       "      <th>notes</th>\n",
       "      <th>running_time</th>\n",
       "      <th>size</th>\n",
       "      <th>tags</th>\n",
       "      <th>channel_best_model_path</th>\n",
       "      <th>...</th>\n",
       "      <th>property_max_epochs</th>\n",
       "      <th>property_min_epochs</th>\n",
       "      <th>property_param__generate_max_length</th>\n",
       "      <th>property_param__learning_rate</th>\n",
       "      <th>property_param__optimizer</th>\n",
       "      <th>property_param__t5_model_prefix</th>\n",
       "      <th>property_param__t5_tokenizer_prefix</th>\n",
       "      <th>property_patience</th>\n",
       "      <th>property_str_replace_newlines</th>\n",
       "      <th>property_task_train</th>\n",
       "    </tr>\n",
       "  </thead>\n",
       "  <tbody>\n",
       "    <tr>\n",
       "      <th>0</th>\n",
       "      <td>FIN-27</td>\n",
       "      <td>t5-base_all_tasks_concat_newlines_as_pipes</td>\n",
       "      <td>2021-01-02 06:49:33.609000+00:00</td>\n",
       "      <td>2021-01-02 15:58:31.521000+00:00</td>\n",
       "      <td>marcospiau</td>\n",
       "      <td></td>\n",
       "      <td>32937</td>\n",
       "      <td>13603174</td>\n",
       "      <td>[t5-base, all_tasks_concat, t5_ocr_baseline]</td>\n",
       "      <td>/home/marcospiau/final_project_ia376j/checkpoi...</td>\n",
       "      <td>...</td>\n",
       "      <td>200</td>\n",
       "      <td>20</td>\n",
       "      <td>512</td>\n",
       "      <td>0.001</td>\n",
       "      <td>adafactor</td>\n",
       "      <td>t5-base</td>\n",
       "      <td>t5-base</td>\n",
       "      <td>50</td>\n",
       "      <td>|</td>\n",
       "      <td>all_tasks_concat</td>\n",
       "    </tr>\n",
       "    <tr>\n",
       "      <th>1</th>\n",
       "      <td>FIN-28</td>\n",
       "      <td>t5-base_all_tasks_concat_newlines_as_spaces</td>\n",
       "      <td>2021-01-02 15:58:50.605000+00:00</td>\n",
       "      <td>2021-01-02 22:02:48.959000+00:00</td>\n",
       "      <td>marcospiau</td>\n",
       "      <td></td>\n",
       "      <td>21838</td>\n",
       "      <td>9068745</td>\n",
       "      <td>[t5-base, all_tasks_concat, t5_ocr_baseline]</td>\n",
       "      <td>/home/marcospiau/final_project_ia376j/checkpoi...</td>\n",
       "      <td>...</td>\n",
       "      <td>200</td>\n",
       "      <td>20</td>\n",
       "      <td>512</td>\n",
       "      <td>0.001</td>\n",
       "      <td>adafactor</td>\n",
       "      <td>t5-base</td>\n",
       "      <td>t5-base</td>\n",
       "      <td>50</td>\n",
       "      <td></td>\n",
       "      <td>all_tasks_concat</td>\n",
       "    </tr>\n",
       "    <tr>\n",
       "      <th>2</th>\n",
       "      <td>FIN-29</td>\n",
       "      <td>t5-small_all_tasks_concat_newlines_as_pipes</td>\n",
       "      <td>2021-01-02 22:03:04.051000+00:00</td>\n",
       "      <td>2021-01-03 01:38:50.889000+00:00</td>\n",
       "      <td>marcospiau</td>\n",
       "      <td></td>\n",
       "      <td>12946</td>\n",
       "      <td>5292147</td>\n",
       "      <td>[t5-small, all_tasks_concat, t5_ocr_baseline]</td>\n",
       "      <td>/home/marcospiau/final_project_ia376j/checkpoi...</td>\n",
       "      <td>...</td>\n",
       "      <td>200</td>\n",
       "      <td>20</td>\n",
       "      <td>512</td>\n",
       "      <td>0.001</td>\n",
       "      <td>adafactor</td>\n",
       "      <td>t5-small</td>\n",
       "      <td>t5-small</td>\n",
       "      <td>50</td>\n",
       "      <td>|</td>\n",
       "      <td>all_tasks_concat</td>\n",
       "    </tr>\n",
       "    <tr>\n",
       "      <th>3</th>\n",
       "      <td>FIN-30</td>\n",
       "      <td>t5-small_all_tasks_concat_newlines_as_spaces</td>\n",
       "      <td>2021-01-03 01:39:06.081000+00:00</td>\n",
       "      <td>2021-01-03 03:38:56.588000+00:00</td>\n",
       "      <td>marcospiau</td>\n",
       "      <td></td>\n",
       "      <td>7190</td>\n",
       "      <td>2940305</td>\n",
       "      <td>[t5-small, all_tasks_concat, t5_ocr_baseline]</td>\n",
       "      <td>/home/marcospiau/final_project_ia376j/checkpoi...</td>\n",
       "      <td>...</td>\n",
       "      <td>200</td>\n",
       "      <td>20</td>\n",
       "      <td>512</td>\n",
       "      <td>0.001</td>\n",
       "      <td>adafactor</td>\n",
       "      <td>t5-small</td>\n",
       "      <td>t5-small</td>\n",
       "      <td>50</td>\n",
       "      <td></td>\n",
       "      <td>all_tasks_concat</td>\n",
       "    </tr>\n",
       "    <tr>\n",
       "      <th>4</th>\n",
       "      <td>FIN-33</td>\n",
       "      <td>t5-base_extract_company_newlines_as_pipes</td>\n",
       "      <td>2021-01-03 04:02:04.774000+00:00</td>\n",
       "      <td>2021-01-03 05:35:03.390000+00:00</td>\n",
       "      <td>marcospiau</td>\n",
       "      <td></td>\n",
       "      <td>5578</td>\n",
       "      <td>2446937</td>\n",
       "      <td>[t5-base, extract_company, t5_ocr_baseline]</td>\n",
       "      <td>/home/marcospiau/final_project_ia376j/checkpoi...</td>\n",
       "      <td>...</td>\n",
       "      <td>200</td>\n",
       "      <td>20</td>\n",
       "      <td>512</td>\n",
       "      <td>0.001</td>\n",
       "      <td>adafactor</td>\n",
       "      <td>t5-base</td>\n",
       "      <td>t5-base</td>\n",
       "      <td>50</td>\n",
       "      <td>|</td>\n",
       "      <td>extract_company</td>\n",
       "    </tr>\n",
       "  </tbody>\n",
       "</table>\n",
       "<p>5 rows × 32 columns</p>\n",
       "</div>"
      ],
      "text/plain": [
       "       id                                          name  \\\n",
       "0  FIN-27    t5-base_all_tasks_concat_newlines_as_pipes   \n",
       "1  FIN-28   t5-base_all_tasks_concat_newlines_as_spaces   \n",
       "2  FIN-29   t5-small_all_tasks_concat_newlines_as_pipes   \n",
       "3  FIN-30  t5-small_all_tasks_concat_newlines_as_spaces   \n",
       "4  FIN-33     t5-base_extract_company_newlines_as_pipes   \n",
       "\n",
       "                           created                         finished  \\\n",
       "0 2021-01-02 06:49:33.609000+00:00 2021-01-02 15:58:31.521000+00:00   \n",
       "1 2021-01-02 15:58:50.605000+00:00 2021-01-02 22:02:48.959000+00:00   \n",
       "2 2021-01-02 22:03:04.051000+00:00 2021-01-03 01:38:50.889000+00:00   \n",
       "3 2021-01-03 01:39:06.081000+00:00 2021-01-03 03:38:56.588000+00:00   \n",
       "4 2021-01-03 04:02:04.774000+00:00 2021-01-03 05:35:03.390000+00:00   \n",
       "\n",
       "        owner notes  running_time      size  \\\n",
       "0  marcospiau               32937  13603174   \n",
       "1  marcospiau               21838   9068745   \n",
       "2  marcospiau               12946   5292147   \n",
       "3  marcospiau                7190   2940305   \n",
       "4  marcospiau                5578   2446937   \n",
       "\n",
       "                                            tags  \\\n",
       "0   [t5-base, all_tasks_concat, t5_ocr_baseline]   \n",
       "1   [t5-base, all_tasks_concat, t5_ocr_baseline]   \n",
       "2  [t5-small, all_tasks_concat, t5_ocr_baseline]   \n",
       "3  [t5-small, all_tasks_concat, t5_ocr_baseline]   \n",
       "4    [t5-base, extract_company, t5_ocr_baseline]   \n",
       "\n",
       "                             channel_best_model_path  ... property_max_epochs  \\\n",
       "0  /home/marcospiau/final_project_ia376j/checkpoi...  ...                 200   \n",
       "1  /home/marcospiau/final_project_ia376j/checkpoi...  ...                 200   \n",
       "2  /home/marcospiau/final_project_ia376j/checkpoi...  ...                 200   \n",
       "3  /home/marcospiau/final_project_ia376j/checkpoi...  ...                 200   \n",
       "4  /home/marcospiau/final_project_ia376j/checkpoi...  ...                 200   \n",
       "\n",
       "  property_min_epochs property_param__generate_max_length  \\\n",
       "0                  20                                 512   \n",
       "1                  20                                 512   \n",
       "2                  20                                 512   \n",
       "3                  20                                 512   \n",
       "4                  20                                 512   \n",
       "\n",
       "  property_param__learning_rate property_param__optimizer  \\\n",
       "0                         0.001                 adafactor   \n",
       "1                         0.001                 adafactor   \n",
       "2                         0.001                 adafactor   \n",
       "3                         0.001                 adafactor   \n",
       "4                         0.001                 adafactor   \n",
       "\n",
       "  property_param__t5_model_prefix property_param__t5_tokenizer_prefix  \\\n",
       "0                         t5-base                             t5-base   \n",
       "1                         t5-base                             t5-base   \n",
       "2                        t5-small                            t5-small   \n",
       "3                        t5-small                            t5-small   \n",
       "4                         t5-base                             t5-base   \n",
       "\n",
       "  property_patience property_str_replace_newlines property_task_train  \n",
       "0                50                             |    all_tasks_concat  \n",
       "1                50                                  all_tasks_concat  \n",
       "2                50                             |    all_tasks_concat  \n",
       "3                50                                  all_tasks_concat  \n",
       "4                50                             |     extract_company  \n",
       "\n",
       "[5 rows x 32 columns]"
      ]
     },
     "execution_count": 4,
     "metadata": {},
     "output_type": "execute_result"
    }
   ],
   "source": [
    "leaderboard = project.get_leaderboard()\n",
    "leaderboard.head()"
   ]
  },
  {
   "cell_type": "code",
   "execution_count": 5,
   "metadata": {},
   "outputs": [
    {
     "data": {
      "text/plain": [
       "['t5-base_all_tasks_concat_newlines_as_pipes',\n",
       " 't5-base_all_tasks_concat_newlines_as_spaces',\n",
       " 't5-small_all_tasks_concat_newlines_as_pipes',\n",
       " 't5-small_all_tasks_concat_newlines_as_spaces',\n",
       " 't5-base_extract_company_newlines_as_pipes',\n",
       " 't5-base_extract_company_newlines_as_spaces',\n",
       " 't5-small_extract_company_newlines_as_pipes',\n",
       " 't5-small_extract_company_newlines_as_spaces',\n",
       " 't5-base_extract_total_newlines_as_pipes',\n",
       " 't5-base_extract_total_newlines_as_spaces',\n",
       " 't5-small_extract_total_newlines_as_pipes',\n",
       " 't5-small_extract_total_newlines_as_spaces',\n",
       " 't5-base_extract_address_newlines_as_pipes',\n",
       " 't5-base_extract_address_newlines_as_spaces',\n",
       " 't5-small_extract_address_newlines_as_pipes',\n",
       " 't5-small_extract_address_newlines_as_spaces',\n",
       " 't5-base_extract_date_newlines_as_pipes',\n",
       " 't5-base_extract_date_newlines_as_spaces',\n",
       " 't5-small_extract_date_newlines_as_pipes',\n",
       " 't5-small_extract_date_newlines_as_spaces']"
      ]
     },
     "execution_count": 5,
     "metadata": {},
     "output_type": "execute_result"
    }
   ],
   "source": [
    "[x.name for x in experiments]"
   ]
  },
  {
   "cell_type": "code",
   "execution_count": 8,
   "metadata": {},
   "outputs": [],
   "source": [
    "from src.data.sroie import get_all_keynames_from_dir\n",
    "from src.data.sroie import get_dataloaders_dict_from_datasets_dict\n",
    "from src.data.sroie import get_tasks_functions_maps\n",
    "from src.data.sroie.t5_ocr_baseline import get_datasets_dict_from_task_functions_map\n",
    "from src.data.sroie.t5_ocr_baseline import get_default_preprocessing_functions\n",
    "from src.models.t5_ocr_baseline import T5OCRBaseline\n",
    "from functools import partial\n",
    "from tqdm import tqdm\n",
    "import gc\n",
    "import pytorch_lightning as pl\n",
    "import gin\n",
    "import tempfile\n",
    "import multiprocessing as mp\n",
    "import os\n",
    "import torch\n",
    "import pandas as pd\n",
    "\n",
    "gin.enter_interactive_mode()\n",
    "gin.clear_config()"
   ]
  },
  {
   "cell_type": "code",
   "execution_count": 48,
   "metadata": {},
   "outputs": [
    {
     "data": {
      "text/plain": [
       "Experiment(FIN-28)"
      ]
     },
     "execution_count": 48,
     "metadata": {},
     "output_type": "execute_result"
    }
   ],
   "source": [
    "project.get_experiments('FIN-28')[0]"
   ]
  },
  {
   "cell_type": "code",
   "execution_count": 9,
   "metadata": {},
   "outputs": [],
   "source": [
    "gin.parse_config_file(\n",
    "    '/home/marcospiau/final_project_ia376j/src/models/gin/defaults.gin',\n",
    "    skip_unknown=True\n",
    ")\n",
    "with gin.config_scope('train_sroie'):\n",
    "    train_keynames = get_all_keynames_from_dir()\n",
    "\n",
    "with gin.config_scope('validation_sroie'):\n",
    "    val_keynames = get_all_keynames_from_dir()\n",
    "\n",
    "gin.clear_config()"
   ]
  },
  {
   "cell_type": "code",
   "execution_count": 10,
   "metadata": {},
   "outputs": [
    {
     "data": {
      "text/plain": [
       "[('FIN-27', 't5-base_all_tasks_concat_newlines_as_pipes'),\n",
       " ('FIN-28', 't5-base_all_tasks_concat_newlines_as_spaces'),\n",
       " ('FIN-29', 't5-small_all_tasks_concat_newlines_as_pipes'),\n",
       " ('FIN-30', 't5-small_all_tasks_concat_newlines_as_spaces'),\n",
       " ('FIN-33', 't5-base_extract_company_newlines_as_pipes'),\n",
       " ('FIN-34', 't5-base_extract_company_newlines_as_spaces'),\n",
       " ('FIN-35', 't5-small_extract_company_newlines_as_pipes'),\n",
       " ('FIN-36', 't5-small_extract_company_newlines_as_spaces'),\n",
       " ('FIN-37', 't5-base_extract_total_newlines_as_pipes'),\n",
       " ('FIN-38', 't5-base_extract_total_newlines_as_spaces'),\n",
       " ('FIN-39', 't5-small_extract_total_newlines_as_pipes'),\n",
       " ('FIN-40', 't5-small_extract_total_newlines_as_spaces'),\n",
       " ('FIN-41', 't5-base_extract_address_newlines_as_pipes'),\n",
       " ('FIN-42', 't5-base_extract_address_newlines_as_spaces'),\n",
       " ('FIN-43', 't5-small_extract_address_newlines_as_pipes'),\n",
       " ('FIN-44', 't5-small_extract_address_newlines_as_spaces'),\n",
       " ('FIN-45', 't5-base_extract_date_newlines_as_pipes'),\n",
       " ('FIN-46', 't5-base_extract_date_newlines_as_spaces'),\n",
       " ('FIN-47', 't5-small_extract_date_newlines_as_pipes'),\n",
       " ('FIN-48', 't5-small_extract_date_newlines_as_spaces')]"
      ]
     },
     "metadata": {},
     "output_type": "display_data"
    }
   ],
   "source": [
    "# experiments_to_eval = project.get_experiments(tag='all_tasks_concat')\n",
    "experiments_to_eval = project.get_experiments()\n",
    "display([(experiment.id, experiment.name) for experiment in experiments_to_eval])"
   ]
  },
  {
   "cell_type": "code",
   "execution_count": 35,
   "metadata": {},
   "outputs": [
    {
     "data": {
      "text/plain": [
       "{}"
      ]
     },
     "execution_count": 35,
     "metadata": {},
     "output_type": "execute_result"
    }
   ],
   "source": [
    "# Temporary dicts for metric saving\n",
    "train_metrics = dict()\n",
    "val_metrics = dict()\n",
    "val_metrics"
   ]
  },
  {
   "cell_type": "code",
   "execution_count": null,
   "metadata": {},
   "outputs": [],
   "source": [
    "get_all_keynames_from_dir"
   ]
  },
  {
   "cell_type": "code",
   "execution_count": 36,
   "metadata": {},
   "outputs": [
    {
     "name": "stdout",
     "output_type": "stream",
     "text": [
      "************************************************************************************************************************\n",
      "Evaluating experiment FIN-27\n"
     ]
    },
    {
     "name": "stderr",
     "output_type": "stream",
     "text": [
      "Some weights of the model checkpoint at t5-base were not used when initializing T5ForConditionalGeneration: ['decoder.block.0.layer.1.EncDecAttention.relative_attention_bias.weight']\n",
      "- This IS expected if you are initializing T5ForConditionalGeneration from the checkpoint of a model trained on another task or with another architecture (e.g. initializing a BertForSequenceClassification model from a BertForPreTraining model).\n",
      "- This IS NOT expected if you are initializing T5ForConditionalGeneration from the checkpoint of a model that you expect to be exactly identical (initializing a BertForSequenceClassification model from a BertForSequenceClassification model).\n",
      "2021-01-11 02:49:59 | INFO | lightning | GPU available: True, used: True\n",
      "2021-01-11 02:49:59 | INFO | lightning | TPU available: None, using: 0 TPU cores\n",
      "2021-01-11 02:49:59 | INFO | lightning | LOCAL_RANK: 0 - CUDA_VISIBLE_DEVICES: [0]\n"
     ]
    },
    {
     "data": {
      "application/vnd.jupyter.widget-view+json": {
       "model_id": "b73dd27fd0744a8f9120e3360473adc4",
       "version_major": 2,
       "version_minor": 0
      },
      "text/plain": [
       "HBox(children=(HTML(value='Testing'), FloatProgress(value=1.0, bar_style='info', layout=Layout(flex='2'), max=…"
      ]
     },
     "metadata": {},
     "output_type": "display_data"
    },
    {
     "name": "stdout",
     "output_type": "stream",
     "text": [
      "----------------------------------------------------------------------------------------------------\n",
      "Sample predictions epoch  0 'test':\n",
      "keyname: /home/marcospiau/final_project_ia376j/data/sroie_receipt_dataset/train/X51005663280\n",
      "formatted_input:\n",
      "    What is the address? 31812012|Chili's|Chili's Grill & Bar KLCC|T.A.S Leisure Sdn Bhd (256864-P)|Tel:03-2164 1400|GST ID:001042104320|Tax Receipt|GST ID:001042104320|4 CHILIS3|23 Anis|Gst4|Chk 1080323|30 Dec 17 18:40:57|TBL64 / 1|30/12/17|-- EAT IN ---|1 PINEAPPLE JUICE|1 TOSTADA CHIPS|1 CHP_BWL CK|1 MARG CK|12.95 S|16.95 S|29.95 S|27.95 5|Subtotal|10% Srv Chg|GST @6%|Total:|87.90|8.78|5.81|102.39|0.01|Total 102.40|YOUR OPINION MATTERS 102.40|We invite you to complete our|GUEST EXPERIENCE SURVEY|YOU COULD WIN RM500 CASH OR|CHILI'S VOUCHER FOR_RM1,000|A WINNER EVERY MONTH|Visit www.go-chilis.com|YOUR SURVEY CODE:5013|Pis enter within the next 4 days|Must be 18 or above. Void where|prohibited. See web for complete|rules and sweepstakes details.|Amount (RM)GST(RM)|S=GST @6%:96.58|z=GST @0%:0.00|5.81/|0.00|\n",
      "formatted_labels:\n",
      "    \n",
      "generated_text:\n",
      "    \n",
      "precision: 1\n",
      "recall: 1\n",
      "f1: 1\n",
      "exact_match: 1\n",
      "\n",
      "\n",
      "--------------------------------------------------------------------------------\n",
      "DATALOADER:0 TEST RESULTS\n",
      "{'test_exact_match': 0.9788732394366197,\n",
      " 'test_f1': 0.9951551490946686,\n",
      " 'test_precision': 0.9962133914598703,\n",
      " 'test_recall': 0.9942773449815704}\n",
      "--------------------------------------------------------------------------------\n"
     ]
    },
    {
     "data": {
      "application/vnd.jupyter.widget-view+json": {
       "model_id": "158afd146a26477a8fdc592d705183d9",
       "version_major": 2,
       "version_minor": 0
      },
      "text/plain": [
       "HBox(children=(HTML(value='Testing'), FloatProgress(value=1.0, bar_style='info', layout=Layout(flex='2'), max=…"
      ]
     },
     "metadata": {},
     "output_type": "display_data"
    },
    {
     "name": "stdout",
     "output_type": "stream",
     "text": [
      "----------------------------------------------------------------------------------------------------\n",
      "Sample predictions epoch  0 'test':\n",
      "keyname: /home/marcospiau/final_project_ia376j/data/sroie_receipt_dataset/test/X51007339157\n",
      "formatted_input:\n",
      "    What is the address? SANYU STATIONERY SHOP|NO. 316&33G, JALAN SETIA INDAH X ,U13/X|40170 SETIA ALAM|Mobile /Whatsapp : +6012-918 7937|Tel: +603-3362 4137|GST ID No: 001531760640|TAX INVOICE|Owned By :|SANYU SUPPLY SDN BHD (1135772-K)|CASH SALES COUNTER|1. 5000-0001|PHOTOCOPY SERVICES - A4|SIZE|50 X 0.1000|5.00|SR|Total Sales Inclusive GST @6%|5.00|Discount|0.00|Total|Round Adj|5.00|0.00|Final Total|5.00|CASH|CHANGE|5.00|0.00|GST Summary|SR @ 6%|Amount(RM)|4.72|Tax(RM)|0.28|INV NO: CS-SA-0097493|Date : 19/07/2017|Goods sold are not Returnable & Refundable|THANK YOU FOR YOUR PATRONAGE|PLEASE COME AGAIN.|TERIMA KASIH SILA DATANG LAGI|** PLEASE KEEP THIS RECEIPT FOR PROVE OF|PURCHASE DATE FOR IT PRODUCT WARRANTY|PURPOSE **|Follow us in Facebook: Sanyu.Stationery|\n",
      "formatted_labels:\n",
      "    NO. 31G&33G, JALAN SETIA INDAH X ,U13/X 40170 SETIA ALAM\n",
      "generated_text:\n",
      "    NO. 316&33G, JALAN SETIA INDAH X ,U13/X 40170 SETIA ALAM\n",
      "precision: 0.9\n",
      "recall: 0.9\n",
      "f1: 0.9\n",
      "exact_match: 0\n",
      "\n",
      "\n",
      "--------------------------------------------------------------------------------\n",
      "DATALOADER:0 TEST RESULTS\n",
      "{'test_exact_match': 0.44,\n",
      " 'test_f1': 0.8941288971350287,\n",
      " 'test_precision': 0.9023434602678024,\n",
      " 'test_recall': 0.8892146107676294}\n",
      "--------------------------------------------------------------------------------\n"
     ]
    },
    {
     "data": {
      "application/vnd.jupyter.widget-view+json": {
       "model_id": "235b3d860ec24c9d8f07d43f7466f192",
       "version_major": 2,
       "version_minor": 0
      },
      "text/plain": [
       "HBox(children=(HTML(value='Testing'), FloatProgress(value=1.0, bar_style='info', layout=Layout(flex='2'), max=…"
      ]
     },
     "metadata": {},
     "output_type": "display_data"
    },
    {
     "name": "stdout",
     "output_type": "stream",
     "text": [
      "----------------------------------------------------------------------------------------------------\n",
      "Sample predictions epoch  0 'test':\n",
      "keyname: /home/marcospiau/final_project_ia376j/data/sroie_receipt_dataset/train/X51005568829\n",
      "formatted_input:\n",
      "    What is the date? THAI DELICIOUS RESTAURANT|NO.22 JALAN PUTERI 2/4|BANDAR PUTERI|47100 PUCHONG, SELANGOR|03-8051 9514|Bill No 01-36870|Table|Date : 02/02/2017 7:31:08 PM АЗ|Cashier : 123|Pax|:|Qty|Price|20.00|Amount|20.00|Description|06S BRAISED|PORKLEG SMALL|ขายเล็ก|2 32 PHRANAKON|SALTED EGG|SQUID minim|3 51 GARLIC FRIED|KAILAN in|28.00|28.00|13.00|13.00|4|1|84 THAI STYLE|KERABU TOFU|15.00|15.00|4|1|1.80|6.50|7.20|6.50|5 130 PLAIN RICE|6 113 COCONUT|THAI|7 116 DISTILLED|WATER|8 106B COLD|PANDAN GINGER|TEA|1|0.60|0 60|1|2.50|2.50|Total|92.80|Grand Total:|Cash Received|Change|92.80|100.00|7.20|AVERAGE/PAX(S):|23.20|Thank You. Please Come Again.|\n",
      "formatted_labels:\n",
      "    02/02/2017\n",
      "generated_text:\n",
      "    02/02/2017\n",
      "precision: 1.0\n",
      "recall: 1.0\n",
      "f1: 1.0\n",
      "exact_match: 1\n",
      "\n",
      "\n",
      "--------------------------------------------------------------------------------\n",
      "DATALOADER:0 TEST RESULTS\n",
      "{'test_exact_match': 1.0,\n",
      " 'test_f1': 1.0,\n",
      " 'test_precision': 1.0,\n",
      " 'test_recall': 1.0}\n",
      "--------------------------------------------------------------------------------\n"
     ]
    },
    {
     "data": {
      "application/vnd.jupyter.widget-view+json": {
       "model_id": "e5dda244f3af4f2f8ca5e434a8103ab9",
       "version_major": 2,
       "version_minor": 0
      },
      "text/plain": [
       "HBox(children=(HTML(value='Testing'), FloatProgress(value=1.0, bar_style='info', layout=Layout(flex='2'), max=…"
      ]
     },
     "metadata": {},
     "output_type": "display_data"
    },
    {
     "name": "stdout",
     "output_type": "stream",
     "text": [
      "----------------------------------------------------------------------------------------------------\n",
      "Sample predictions epoch  0 'test':\n",
      "keyname: /home/marcospiau/final_project_ia376j/data/sroie_receipt_dataset/test/X51007846370\n",
      "formatted_input:\n",
      "    What is the date? Ao6o71|UNIHAKKA INTERNATIONAL SDN BHD|16 Jun 2018 18:25|(867388-U)|12, Jalan Tampoi 7/4, Kawasan Perindustrian|Tampoi, 81200 Johor Bahru, Johor|TAX INVOICE|Invoice #: OR18061602170510|Total|Item|Qty|SR 100100000035- 1 Meat + 3 Vege|RM6.69|1|RM6.69|SR 100100000015- Vegetable|RM1.03|1|RM1.03|Total Amount: RM7.72|GST @0%: RM0.00|Rounding: -RM0.02|Nett Total: RM7.70|Amount|Payment Mode|CASH|Change|RM7.70|RM0.00|Amount(RM)|GST Summary|Tax(RM)|7.72|0.00|SR = GST @0%|GST REG #000656195584|BAR WANG RICE@PERMAS JAYA|Thank You & Come Again!|Like and Follow Us on Facebook!|Facebook.com/BarWangRice|.|\n",
      "formatted_labels:\n",
      "    16 JUN 2018\n",
      "generated_text:\n",
      "    16 JUN 2018\n",
      "precision: 1.0\n",
      "recall: 1.0\n",
      "f1: 1.0\n",
      "exact_match: 1\n",
      "\n",
      "\n",
      "--------------------------------------------------------------------------------\n",
      "DATALOADER:0 TEST RESULTS\n",
      "{'test_exact_match': 0.945,\n",
      " 'test_f1': 0.975,\n",
      " 'test_precision': 0.975,\n",
      " 'test_recall': 0.975}\n",
      "--------------------------------------------------------------------------------\n"
     ]
    },
    {
     "data": {
      "application/vnd.jupyter.widget-view+json": {
       "model_id": "13326509185f47528047272092f47d32",
       "version_major": 2,
       "version_minor": 0
      },
      "text/plain": [
       "HBox(children=(HTML(value='Testing'), FloatProgress(value=1.0, bar_style='info', layout=Layout(flex='2'), max=…"
      ]
     },
     "metadata": {},
     "output_type": "display_data"
    },
    {
     "name": "stdout",
     "output_type": "stream",
     "text": [
      "----------------------------------------------------------------------------------------------------\n",
      "Sample predictions epoch  0 'test':\n",
      "keyname: /home/marcospiau/final_project_ia376j/data/sroie_receipt_dataset/train/X51005301661\n",
      "formatted_input:\n",
      "    What is the total? LIGHTROOM GALLERY SDN BHD|No: 28, JALAN ASTANA 1C,|BANDAR BUKIT RAJA, 41050|KLANG SELANGOR D.E, MALAYSIA|ROC No. : (1072825-A)|GST No. : 000584089600|Tel:03-3362 4395 Fax:03-3362 4395|TAX INVOICE|Station: CASHIER Bill No: LCS03908|Cas r: ANGELA Cover : 1|Bill Date : 20/12/2017|Bill Start: 20/12/2017 07:10:35 PM|Code|Name|Address|: 300-C0001|: CASH|:|GST No.|CH50514|SR|T5 JOINT 2PIN 2PCS|1 * RM 2.83 UNI ( 0.17)=RM2.83|YT51874|YE30 BK 7W WW LED TRACK LIGHT|2 * RM 33.02 UNI (3.96)=RM 66.04|SR|RM|RM|68.87|0.00|4.13|Sub Total|Service Charge|GST/TAX 6%|TONI :|CA..|CHANGE:|RM|RM|RM|RM|73.00|73.00|0.00|Item Count: 2|Qty Count : 3.0|Closed Bill: 20/12/2017 07:10:51 PM|Thank You, Please come again.|Goods Sold are not refundable, returnable|BANK ACC MBB 5128 4851 2118|BANK ACC MBB 5626 4732 1744|BANK ACC AMBANK 888 100 123 3706|GST Summary Amount (RM) Tax (RM)|SR @ 6%|68.87 4.13|ZR/OS/EZ|0.00 0.00|\n",
      "formatted_labels:\n",
      "    73.00\n",
      "generated_text:\n",
      "    73.00\n",
      "precision: 1.0\n",
      "recall: 1.0\n",
      "f1: 1.0\n",
      "exact_match: 1\n",
      "\n",
      "\n",
      "--------------------------------------------------------------------------------\n",
      "DATALOADER:0 TEST RESULTS\n",
      "{'test_exact_match': 0.9976525821596244,\n",
      " 'test_f1': 0.9976525821596244,\n",
      " 'test_precision': 0.9976525821596244,\n",
      " 'test_recall': 0.9976525821596244}\n",
      "--------------------------------------------------------------------------------\n"
     ]
    },
    {
     "data": {
      "application/vnd.jupyter.widget-view+json": {
       "model_id": "8a2315fa3a204bce9db38115efd01aa4",
       "version_major": 2,
       "version_minor": 0
      },
      "text/plain": [
       "HBox(children=(HTML(value='Testing'), FloatProgress(value=1.0, bar_style='info', layout=Layout(flex='2'), max=…"
      ]
     },
     "metadata": {},
     "output_type": "display_data"
    },
    {
     "name": "stdout",
     "output_type": "stream",
     "text": [
      "----------------------------------------------------------------------------------------------------\n",
      "Sample predictions epoch  0 'test':\n",
      "keyname: /home/marcospiau/final_project_ia376j/data/sroie_receipt_dataset/test/X51008099054\n",
      "formatted_input:\n",
      "    What is the total? 10 GRAM Gourmet Sbn Bhd|(1152264-K)|No 3, Jalan Temenggung 27/9,|Bandar Mahkota Cheras,|43200 Selangor.|(GST Reg. No : 002055098368)|Tax Invoice|Table -|Check #: 514658|Pax(s): 0|Date : 11-06-2018 12:51:34|Cashier: Cashier Morning|Description Qty|U.price Total TAX|PO2 Spaghetti Aglio Olio Chicken Breast|1 X 15.00 15.00 SR|Total (Excluding GST):|Total GST (0%):|Total (Inclusive of GST):|15.00|0.00|15.00|TOTAL:|15.00|Closed: 8888 11-06-2018 12:52:21|Server: Cashier Morning|CASH :|15.00|GST Summary|SR (@0%)|Amount (RM). Tax(RM)|15.00 0.00|**** Thank You ****|Please Come Again|\n",
      "formatted_labels:\n",
      "    15.00\n",
      "generated_text:\n",
      "    15.00\n",
      "precision: 1.0\n",
      "recall: 1.0\n",
      "f1: 1.0\n",
      "exact_match: 1\n",
      "\n",
      "\n",
      "--------------------------------------------------------------------------------\n",
      "DATALOADER:0 TEST RESULTS\n",
      "{'test_exact_match': 0.875,\n",
      " 'test_f1': 0.8983333333333334,\n",
      " 'test_precision': 0.895,\n",
      " 'test_recall': 0.9075}\n",
      "--------------------------------------------------------------------------------\n"
     ]
    },
    {
     "data": {
      "application/vnd.jupyter.widget-view+json": {
       "model_id": "eb7e65e904a14f22865b579656856a41",
       "version_major": 2,
       "version_minor": 0
      },
      "text/plain": [
       "HBox(children=(HTML(value='Testing'), FloatProgress(value=1.0, bar_style='info', layout=Layout(flex='2'), max=…"
      ]
     },
     "metadata": {},
     "output_type": "display_data"
    },
    {
     "name": "stdout",
     "output_type": "stream",
     "text": [
      "----------------------------------------------------------------------------------------------------\n",
      "Sample predictions epoch  0 'test':\n",
      "keyname: /home/marcospiau/final_project_ia376j/data/sroie_receipt_dataset/train/X51005444045\n",
      "formatted_input:\n",
      "    What is the company? 99 SPEED MART S/B (519537-X)|LOT P.T. 2811, JALAN ANGSA,|TAMAN BERKELEY|41150 KLANG, SELANGOR|1245-DESA SRI HARTAMAS|GST ID. NO : 000181747712|INVOICE NO : 18341/103/T0138|09:06PM|569547|19-03-18|103 SUNQUICK OREN 840ML|RM11.40 s|Total Sales (Inclusive GST) RM 11.40|CASH RM 11.40|CHANGE RM .00|--------|GST Susuary|Aaount(RM)|10.75|Tax(RM)|.65|$ - 67|Thank You. Please come again|Keep the invoice for applicable returns|\n",
      "formatted_labels:\n",
      "    99 SPEED MART S/B\n",
      "generated_text:\n",
      "    99 SPEED MART S/B\n",
      "precision: 1.0\n",
      "recall: 1.0\n",
      "f1: 1.0\n",
      "exact_match: 1\n",
      "\n",
      "\n",
      "--------------------------------------------------------------------------------\n",
      "DATALOADER:0 TEST RESULTS\n",
      "{'test_exact_match': 0.9929577464788732,\n",
      " 'test_f1': 0.9986213577762874,\n",
      " 'test_precision': 0.9992175273865416,\n",
      " 'test_recall': 0.9981611893583725}\n",
      "--------------------------------------------------------------------------------\n"
     ]
    },
    {
     "data": {
      "application/vnd.jupyter.widget-view+json": {
       "model_id": "e7885e0ae91a45f5b16e3261a5a40bee",
       "version_major": 2,
       "version_minor": 0
      },
      "text/plain": [
       "HBox(children=(HTML(value='Testing'), FloatProgress(value=1.0, bar_style='info', layout=Layout(flex='2'), max=…"
      ]
     },
     "metadata": {},
     "output_type": "display_data"
    },
    {
     "name": "stdout",
     "output_type": "stream",
     "text": [
      "----------------------------------------------------------------------------------------------------\n",
      "Sample predictions epoch  0 'test':\n",
      "keyname: /home/marcospiau/final_project_ia376j/data/sroie_receipt_dataset/test/X51007843145\n",
      "formatted_input:\n",
      "    What is the company? t|A06140|TAX INVOICE|BHPetrol Permas Jaya 2|LOT PTD 101051|Jalan Permas 10/10|81750 Masai, Johor|Esjay Fuel Enterprise|CO. REG. NO: 001011128-T|GST REG. NO: 000153358336|30-06-2018 09:09:49 Cashier: 465|Invoice No: 1-642195|Prepay Chit Number: 12091|Item|U\\Price|Qnty Amount|Inf RON95|P3 2.200|22.73 50.00 R|TOTAL SALES|ROUNDING ADJ|RM 50.00|RM 0.00|TOTAL AMOUNT PAYABLE|RM 50.00|CASH|RM 50.00|Prepay Deposit RM 50.00|Prepay Refund RM 0.00|GST SUMMARY|Amount RM Tax RM|R: Relief*|50.00 0.00|*Relief under Section 56(3)(b)GST Act 2014|Thank You For Shopping At BHPetromart|Customer Service 1-300-22-2828|:|\n",
      "formatted_labels:\n",
      "    ESJAY FUEL ENTERPRISE\n",
      "generated_text:\n",
      "    BHPETROL PERMAS JAYA 2\n",
      "precision: 0\n",
      "recall: 0\n",
      "f1: 0\n",
      "exact_match: 0\n",
      "\n",
      "\n",
      "--------------------------------------------------------------------------------\n",
      "DATALOADER:0 TEST RESULTS\n",
      "{'test_exact_match': 0.82,\n",
      " 'test_f1': 0.9184844322344321,\n",
      " 'test_precision': 0.9302976190476191,\n",
      " 'test_recall': 0.9141190476190476}\n",
      "--------------------------------------------------------------------------------\n"
     ]
    },
    {
     "data": {
      "application/vnd.jupyter.widget-view+json": {
       "model_id": "f527dcc268cb46cfa9b0d2b5ff479eed",
       "version_major": 2,
       "version_minor": 0
      },
      "text/plain": [
       "HBox(children=(HTML(value='Testing'), FloatProgress(value=1.0, bar_style='info', layout=Layout(flex='2'), max=…"
      ]
     },
     "metadata": {},
     "output_type": "display_data"
    },
    {
     "name": "stdout",
     "output_type": "stream",
     "text": [
      "----------------------------------------------------------------------------------------------------\n",
      "Sample predictions epoch  0 'test':\n",
      "keyname: /home/marcospiau/final_project_ia376j/data/sroie_receipt_dataset/train/X51006557202\n",
      "formatted_input:\n",
      "    What is the address? GARDENIA BAKERIES (KL) SDN BHD (139386 X)|Lot 3, Jalan Pelabur 23/1,|40300 Shah Alam, Selangor.|Tel: 03 55423228 Fax:03. 55423213|GSTID: 00038 1399040|TAX INVOICE / ADJUSTMENT NOTE|Cash In No.: 7006F710|VEOS|Date: 08/10/2017|MAKASSAR FRESH MARKET SDN BHD|GROUND FLOOR, NO. 4 & 6,|JALAN SS 15/4B,|47500 SUBANG JAYA, SELANGOR|VEOS: Ridzuan (11900)|DD: 08/10/2017 12:11|Description U.P Iss Exc D Sale Amt(RM)|0.C. WHITE 2.13 9 2 © 7|WHOLEMEAL 2.78 6|4 11.12|0.C JUMBO 2.97 8 1|7|20.79|Total 0% supplies: 46.82|CR-8' SCOTCH 0.72|-1 -0.72|Total 6% supplies (excl. GST): -0.72|GST: -0.04|Total 6% supplies (Inc. GST): -0.76|Total 0% supplies: 46.82|Total Payable:|46.06|E.&.(|Peceived above goods in good order condition.|e recipient of Gardenia's products is|required to make necessary adjustments to its|tax claims, on the ba ic of the|ents shown in this Tax Invoice!|Note|RE-PRINT|\n",
      "formatted_labels:\n",
      "    LOT 3, JALAN PELABUR 23/1, 40300 SHAH ALAM, SELANGOR.\n",
      "generated_text:\n",
      "    LOT 3, JALAN PELABUR 23/1, 40300 SHAH ALAM, SELANGOR.\n",
      "precision: 1.0\n",
      "recall: 1.0\n",
      "f1: 1.0\n",
      "exact_match: 1\n",
      "\n",
      "\n",
      "--------------------------------------------------------------------------------\n",
      "DATALOADER:0 TEST RESULTS\n",
      "{'test_exact_match': 0.9923708920187794,\n",
      " 'test_f1': 0.9978572722576452,\n",
      " 'test_precision': 0.9982708752515091,\n",
      " 'test_recall': 0.9975227791248918}\n",
      "--------------------------------------------------------------------------------\n"
     ]
    },
    {
     "data": {
      "application/vnd.jupyter.widget-view+json": {
       "model_id": "fc411574c0a747d481a5d12ab1752788",
       "version_major": 2,
       "version_minor": 0
      },
      "text/plain": [
       "HBox(children=(HTML(value='Testing'), FloatProgress(value=1.0, bar_style='info', layout=Layout(flex='2'), max=…"
      ]
     },
     "metadata": {},
     "output_type": "display_data"
    },
    {
     "name": "stdout",
     "output_type": "stream",
     "text": [
      "----------------------------------------------------------------------------------------------------\n",
      "Sample predictions epoch  0 'test':\n",
      "keyname: /home/marcospiau/final_project_ia376j/data/sroie_receipt_dataset/test/X51006913023\n",
      "formatted_input:\n",
      "    What is the company? .|A05030|UNIHAKKA INTERNATIONAL SDN BHD|16 May 2018 18:30|(867388-U)|12, Jalan Tampoi 7/4, Kawasan Perindustrian|Tampoi, 81200 Johor Bahru, Johor|TAX INVOICE|Invoice #: OR18051602160350|Total|Item|Qty|SR 100100000060-4 Vege|$5.50|1|$5.50|SR 100100000001- Chicken|$2.70|1|$2.70|Total Amount: $8.20|GST @6%: $0.46|Nett Total: $8.20|Payment Mode|CASH|Change|Amount|$8.20|$0.00|Amount($)|Tax($)|GST Summary|SR = GST @6%|7.74|0.46|GST REG #000656195584|BAR WANG RICE@PERMAS JAYA|(Price Inclusive of GST)|Thank You & Come Again!|Like and Follow Us on Facebook!|Facebook.com/BarWangRice|-|i|\n",
      "formatted_labels:\n",
      "    UNIHAKKA INTERNATIONAL SDN BHD\n",
      "generated_text:\n",
      "    UNIHAKKA INTERNATIONAL SDN BHD\n",
      "precision: 1.0\n",
      "recall: 1.0\n",
      "f1: 1.0\n",
      "exact_match: 1\n",
      "\n",
      "\n",
      "--------------------------------------------------------------------------------\n",
      "DATALOADER:0 TEST RESULTS\n",
      "{'test_exact_match': 0.77,\n",
      " 'test_f1': 0.9214866656756985,\n",
      " 'test_precision': 0.9256602698288554,\n",
      " 'test_recall': 0.9214584145966692}\n",
      "--------------------------------------------------------------------------------\n"
     ]
    }
   ],
   "source": [
    "for experiment in experiments_to_eval:\n",
    "    print(120 * '*')\n",
    "    print(f'Evaluating experiment {experiment.id}')\n",
    "    \n",
    "    gin.clear_config()\n",
    "#     Loading experiment data\n",
    "    experiment_channels = experiment.get_channels()\n",
    "    experiment_properties = experiment.get_properties()\n",
    "    \n",
    "#     Loading best checkpoint\n",
    "    model = T5OCRBaseline.load_from_checkpoint(\n",
    "        experiment_channels['best_model_path'].y\n",
    "    )\n",
    "    trainer = pl.Trainer(gpus=1, logger=False)\n",
    "    \n",
    "#     Datasets and dataloaders\n",
    "    with tempfile.TemporaryDirectory() as tmp_folder:\n",
    "        experiment.download_artifact('gin_operative_config.gin', tmp_folder)\n",
    "        gin.parse_config_file(\n",
    "            os.path.join(tmp_folder, 'gin_operative_config.gin'),\n",
    "            skip_unknown=True\n",
    "        )\n",
    "\n",
    "    with gin.config_scope('sroie_t5_baseline'):\n",
    "        task_functions_maps = get_tasks_functions_maps()\n",
    "\n",
    "    train_datasets = get_datasets_dict_from_task_functions_map(\n",
    "        keynames=train_keynames, tasks_functions_maps=task_functions_maps)\n",
    "    val_datasets = get_datasets_dict_from_task_functions_map(\n",
    "        keynames=val_keynames, tasks_functions_maps=task_functions_maps)\n",
    "\n",
    "    loader_kwargs = {\n",
    "        'num_workers': mp.cpu_count(),\n",
    "        'shuffle': False,\n",
    "        'pin_memory': True\n",
    "    }\n",
    "\n",
    "    train_dataloaders = get_dataloaders_dict_from_datasets_dict(\n",
    "        datasets_dict=train_datasets, dataloader_kwargs=loader_kwargs)\n",
    "    val_dataloaders = get_dataloaders_dict_from_datasets_dict(\n",
    "        datasets_dict=val_datasets, dataloader_kwargs=loader_kwargs)\n",
    "    \n",
    "#     Metrics on train and validation data\n",
    "    assert train_dataloaders.keys() == val_dataloaders.keys()\n",
    "    train_metrics[experiment.id] = dict()\n",
    "    val_metrics[experiment.id] = dict()\n",
    "    for task_eval in val_dataloaders.keys():\n",
    "        train_metrics[experiment.id][task_eval] = trainer.test(\n",
    "            model,\n",
    "            test_dataloaders=train_dataloaders[task_eval]\n",
    "        )\n",
    "        val_metrics[experiment.id][task_eval] = trainer.test(\n",
    "            model,\n",
    "            test_dataloaders=val_dataloaders[task_eval]\n",
    "        )\n",
    "    \n",
    "    del model, trainer\n",
    "    torch.cuda.empty_cache()\n",
    "    gc.collect()\n",
    "    break"
   ]
  },
  {
   "cell_type": "code",
   "execution_count": null,
   "metadata": {},
   "outputs": [],
   "source": [
    "train_metrics"
   ]
  },
  {
   "cell_type": "code",
   "execution_count": 37,
   "metadata": {},
   "outputs": [
    {
     "ename": "KeyError",
     "evalue": "'FIN-28'",
     "output_type": "error",
     "traceback": [
      "\u001b[0;31m---------------------------------------------------------------------------\u001b[0m",
      "\u001b[0;31mKeyError\u001b[0m                                  Traceback (most recent call last)",
      "\u001b[0;32m<ipython-input-37-1dc940e91b21>\u001b[0m in \u001b[0;36m<module>\u001b[0;34m\u001b[0m\n\u001b[0;32m----> 1\u001b[0;31m \u001b[0mtrain_metrics\u001b[0m\u001b[0;34m[\u001b[0m\u001b[0;34m'FIN-27'\u001b[0m\u001b[0;34m]\u001b[0m \u001b[0;34m==\u001b[0m \u001b[0mtrain_metrics\u001b[0m\u001b[0;34m[\u001b[0m\u001b[0;34m'FIN-28'\u001b[0m\u001b[0;34m]\u001b[0m\u001b[0;34m\u001b[0m\u001b[0;34m\u001b[0m\u001b[0m\n\u001b[0m",
      "\u001b[0;31mKeyError\u001b[0m: 'FIN-28'"
     ]
    }
   ],
   "source": [
    "train_metrics['FIN-27'] == train_metrics['FIN-28']"
   ]
  },
  {
   "cell_type": "code",
   "execution_count": 21,
   "metadata": {},
   "outputs": [
    {
     "data": {
      "text/plain": [
       "dict_keys(['FIN-27', 'FIN-28', 'FIN-29', 'FIN-30', 'FIN-33', 'FIN-34', 'FIN-35', 'FIN-36', 'FIN-37', 'FIN-38', 'FIN-39', 'FIN-40', 'FIN-41', 'FIN-42', 'FIN-43', 'FIN-44', 'FIN-45', 'FIN-46', 'FIN-47', 'FIN-48'])"
      ]
     },
     "execution_count": 21,
     "metadata": {},
     "output_type": "execute_result"
    }
   ],
   "source": [
    "train_metrics.keys()"
   ]
  },
  {
   "cell_type": "code",
   "execution_count": 54,
   "metadata": {},
   "outputs": [
    {
     "data": {
      "text/plain": [
       "{'extract_address': [{'test_precision': 0.9962133914598703,\n",
       "   'test_recall': 0.9942773449815704,\n",
       "   'test_f1': 0.9951551490946686,\n",
       "   'test_exact_match': 0.9788732394366197}],\n",
       " 'extract_date': [{'test_precision': 1.0,\n",
       "   'test_recall': 1.0,\n",
       "   'test_f1': 1.0,\n",
       "   'test_exact_match': 1.0}],\n",
       " 'extract_total': [{'test_precision': 0.9976525821596244,\n",
       "   'test_recall': 0.9976525821596244,\n",
       "   'test_f1': 0.9976525821596244,\n",
       "   'test_exact_match': 0.9976525821596244}],\n",
       " 'extract_company': [{'test_precision': 0.9992175273865416,\n",
       "   'test_recall': 0.9981611893583725,\n",
       "   'test_f1': 0.9986213577762874,\n",
       "   'test_exact_match': 0.9929577464788732}],\n",
       " 'all_tasks_concat': [{'test_precision': 0.9982708752515091,\n",
       "   'test_recall': 0.9975227791248918,\n",
       "   'test_f1': 0.9978572722576452,\n",
       "   'test_exact_match': 0.9923708920187794}]}"
      ]
     },
     "execution_count": 54,
     "metadata": {},
     "output_type": "execute_result"
    }
   ],
   "source": [
    "train_metrics['FIN-27']"
   ]
  },
  {
   "cell_type": "code",
   "execution_count": 53,
   "metadata": {},
   "outputs": [
    {
     "data": {
      "text/plain": [
       "{'extract_address': [{'test_precision': 0.9023434602678024,\n",
       "   'test_recall': 0.8892146107676294,\n",
       "   'test_f1': 0.8941288971350287,\n",
       "   'test_exact_match': 0.44}],\n",
       " 'extract_date': [{'test_precision': 0.975,\n",
       "   'test_recall': 0.975,\n",
       "   'test_f1': 0.975,\n",
       "   'test_exact_match': 0.945}],\n",
       " 'extract_total': [{'test_precision': 0.895,\n",
       "   'test_recall': 0.9075,\n",
       "   'test_f1': 0.8983333333333334,\n",
       "   'test_exact_match': 0.875}],\n",
       " 'extract_company': [{'test_precision': 0.9302976190476191,\n",
       "   'test_recall': 0.9141190476190476,\n",
       "   'test_f1': 0.9184844322344321,\n",
       "   'test_exact_match': 0.82}],\n",
       " 'all_tasks_concat': [{'test_precision': 0.9256602698288554,\n",
       "   'test_recall': 0.9214584145966692,\n",
       "   'test_f1': 0.9214866656756985,\n",
       "   'test_exact_match': 0.77}]}"
      ]
     },
     "execution_count": 53,
     "metadata": {},
     "output_type": "execute_result"
    }
   ],
   "source": [
    "val_metrics['FIN-27']"
   ]
  },
  {
   "cell_type": "code",
   "execution_count": null,
   "metadata": {},
   "outputs": [],
   "source": [
    "pd.DataFrame({k:v['extract_address'] for k,v in metrics_dict.items()})"
   ]
  },
  {
   "cell_type": "code",
   "execution_count": null,
   "metadata": {},
   "outputs": [],
   "source": [
    "pd.DataFrame.from_records({k:v['extract_address'] for k,v in metrics_dict.items()})"
   ]
  },
  {
   "cell_type": "code",
   "execution_count": null,
   "metadata": {},
   "outputs": [],
   "source": [
    "def metrics_dict_to_pandas(metrics_dict, prefix):\n",
    "    df = pd.DataFrame.from_dict(\n",
    "        metrics_dict.copy(), orient='index', columns=['tmp_results']\n",
    "    )\n",
    "    metrics = df.iloc[0,0].keys()\n",
    "    for metric in metrics:\n",
    "        df[metric] = df['tmp_results'].apply(lambda x: x[metric])\n",
    "\n",
    "    df = df.drop('tmp_results', axis=1)\n",
    "    df.columns = [x.replace('test_', prefix) for x in df.columns]\n",
    "    df = df.reset_index().rename({'index': 'task_eval'}, axis=1)\n",
    "    \n",
    "    return df\n",
    "metrics_dict_to_pandas(train_metrics['FIN-28'], 'train')"
   ]
  },
  {
   "cell_type": "code",
   "execution_count": null,
   "metadata": {},
   "outputs": [],
   "source": [
    "metrics_dict_to_pandas(val_metrics['FIN-28'], 'val')"
   ]
  },
  {
   "cell_type": "code",
   "execution_count": null,
   "metadata": {},
   "outputs": [],
   "source": [
    "a.iloc[0,0]"
   ]
  },
  {
   "cell_type": "code",
   "execution_count": null,
   "metadata": {},
   "outputs": [],
   "source": [
    "pd.DataFrame.from_dict(metrics_dict['FIN-27'], orient='index')[0][0]"
   ]
  },
  {
   "cell_type": "code",
   "execution_count": null,
   "metadata": {},
   "outputs": [],
   "source": [
    "pd.DataFrame(metrics_dict)"
   ]
  },
  {
   "cell_type": "code",
   "execution_count": null,
   "metadata": {},
   "outputs": [],
   "source": [
    "{k:v['extract_address'] for k,v in metrics_dict.items()}"
   ]
  },
  {
   "cell_type": "code",
   "execution_count": null,
   "metadata": {},
   "outputs": [],
   "source": [
    "dict((x.id, x.get_channels()['best_model_path'].y) for x in experiments_to_eval)"
   ]
  },
  {
   "cell_type": "code",
   "execution_count": null,
   "metadata": {},
   "outputs": [],
   "source": [
    "metrics_dict['FIN-28']"
   ]
  },
  {
   "cell_type": "code",
   "execution_count": null,
   "metadata": {},
   "outputs": [],
   "source": []
  },
  {
   "cell_type": "code",
   "execution_count": null,
   "metadata": {},
   "outputs": [],
   "source": [
    "{k:v['extract_address'] for k,v in metrics_dict.items()}"
   ]
  },
  {
   "cell_type": "code",
   "execution_count": null,
   "metadata": {},
   "outputs": [],
   "source": [
    "print(metrics_dict)"
   ]
  },
  {
   "cell_type": "code",
   "execution_count": null,
   "metadata": {},
   "outputs": [],
   "source": []
  }
 ],
 "metadata": {
  "kernelspec": {
   "display_name": "Python 3",
   "language": "python",
   "name": "python3"
  },
  "language_info": {
   "codemirror_mode": {
    "name": "ipython",
    "version": 3
   },
   "file_extension": ".py",
   "mimetype": "text/x-python",
   "name": "python",
   "nbconvert_exporter": "python",
   "pygments_lexer": "ipython3",
   "version": "3.7.8"
  }
 },
 "nbformat": 4,
 "nbformat_minor": 4
}
